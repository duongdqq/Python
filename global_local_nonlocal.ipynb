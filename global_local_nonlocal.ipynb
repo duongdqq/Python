{
  "nbformat": 4,
  "nbformat_minor": 0,
  "metadata": {
    "colab": {
      "name": "global_local_nonlocal.ipynb",
      "provenance": [],
      "collapsed_sections": [],
      "authorship_tag": "ABX9TyN+yRAHOXUehLlOZ6xY9nQv",
      "include_colab_link": true
    },
    "kernelspec": {
      "name": "python3",
      "display_name": "Python 3"
    },
    "accelerator": "GPU"
  },
  "cells": [
    {
      "cell_type": "markdown",
      "metadata": {
        "id": "view-in-github",
        "colab_type": "text"
      },
      "source": [
        "<a href=\"https://colab.research.google.com/github/duongdqq/python/blob/master/global_local_nonlocal.ipynb\" target=\"_parent\"><img src=\"https://colab.research.google.com/assets/colab-badge.svg\" alt=\"Open In Colab\"/></a>"
      ]
    },
    {
      "cell_type": "markdown",
      "metadata": {
        "id": "kEEfuqUBRdc7",
        "colab_type": "text"
      },
      "source": [
        "# Global và Local variable"
      ]
    },
    {
      "cell_type": "markdown",
      "metadata": {
        "id": "wNuatvVcRijE",
        "colab_type": "text"
      },
      "source": [
        "* Global variable có thể được sử dụng ở mọi nơi\n",
        "* Local variable chỉ có thể được sử dụng trong phạm vi function của nos"
      ]
    },
    {
      "cell_type": "code",
      "metadata": {
        "id": "8oIpVSivQ8br",
        "colab_type": "code",
        "colab": {
          "base_uri": "https://localhost:8080/",
          "height": 68
        },
        "outputId": "796528e8-de37-4c81-cb7d-e6c70fb90a6e"
      },
      "source": [
        "my_var = 'python'\n",
        "\n",
        "def call_me_1():\n",
        "  print(f'call_me_1: {my_var}')\n",
        "\n",
        "def call_me_2():\n",
        "  my_var = 'c++'\n",
        "  print(f'call_me_2: {my_var}')\n",
        "\n",
        "if __name__ == '__main__':\n",
        "  call_me_1()\n",
        "  call_me_2()\n",
        "  print(f'__main__: {my_var}')"
      ],
      "execution_count": null,
      "outputs": [
        {
          "output_type": "stream",
          "text": [
            "call_me_1: python\n",
            "call_me_2: c++\n",
            "__main__: python\n"
          ],
          "name": "stdout"
        }
      ]
    },
    {
      "cell_type": "markdown",
      "metadata": {
        "id": "-Msr6BTFTKfN",
        "colab_type": "text"
      },
      "source": [
        "* Nhận xét\n",
        "  * call_me_1() không có 1 biến nào, python mặc định gọi biến my_var là global variable\n",
        "  * call_me_2() gán my_var = 'c++', python sẽ hiểu my_var là tên của 1 local variable mới được tạo. python sẽ không ghi đè giá trị global variable my_var ở dòng đầu tiên\n",
        "  * giá trị của my_var vẫn được giữ nguyên khi gọi ở __main__"
      ]
    },
    {
      "cell_type": "markdown",
      "metadata": {
        "id": "EldRJJL9UF3d",
        "colab_type": "text"
      },
      "source": [
        "* Tuy nhiên, làm cách nào để thay đổi giá trị global variable"
      ]
    },
    {
      "cell_type": "code",
      "metadata": {
        "id": "gn4C05KaSqHW",
        "colab_type": "code",
        "colab": {
          "base_uri": "https://localhost:8080/",
          "height": 68
        },
        "outputId": "bdc74fbe-9ad8-42e6-9fde-56531456a093"
      },
      "source": [
        "def call_me_2():\n",
        "  global my_var\n",
        "  my_var = 'java script'\n",
        "  print(f'call_me_2: {my_var}')\n",
        "\n",
        "if __name__ == '__main__':\n",
        "    call_me_1()\n",
        "    call_me_2()\n",
        "    print(f'__main__: {my_var}')"
      ],
      "execution_count": null,
      "outputs": [
        {
          "output_type": "stream",
          "text": [
            "call_me_1: python\n",
            "call_me_2: java script\n",
            "__main__: java script\n"
          ],
          "name": "stdout"
        }
      ]
    },
    {
      "cell_type": "markdown",
      "metadata": {
        "id": "7j_OP3ALUjys",
        "colab_type": "text"
      },
      "source": [
        "* giá trị của global variable my_var được thay đổi vởi dòng lệnh global my_var\n",
        "* sau dòng lệnh này, global variable my_var được gán 1 giá trị mới\n",
        "* đoạn code thực hiện ghi đè giá trị mới của biến global chứ không tạo biến local mới như đoạn code trước ddos"
      ]
    },
    {
      "cell_type": "markdown",
      "metadata": {
        "id": "v99EbMwLU8h1",
        "colab_type": "text"
      },
      "source": [
        "# nonlocal variable"
      ]
    },
    {
      "cell_type": "code",
      "metadata": {
        "id": "CMAPekY6UcK0",
        "colab_type": "code",
        "colab": {
          "base_uri": "https://localhost:8080/",
          "height": 68
        },
        "outputId": "1a02f419-e47c-40fa-e1ee-7587e4fa89a6"
      },
      "source": [
        "def call_parents():\n",
        "  phone_number = '0123456789'  # default number is dad's number\n",
        "\n",
        "  def _call_dad():\n",
        "    print(f'calling dad: {phone_number}')\n",
        "\n",
        "  def _call_mom():\n",
        "    phone_number = '099999999'\n",
        "    print(f'calling mom: {phone_number}')\n",
        "\n",
        "  _call_dad()\n",
        "  _call_mom()\n",
        "  print(f'default number is: {phone_number}')\n",
        "\n",
        "if __name__ == '__main__':\n",
        "  call_parents()"
      ],
      "execution_count": null,
      "outputs": [
        {
          "output_type": "stream",
          "text": [
            "calling dad: 0123456789\n",
            "calling mom: 099999999\n",
            "default number is: 0123456789\n"
          ],
          "name": "stdout"
        }
      ]
    },
    {
      "cell_type": "markdown",
      "metadata": {
        "id": "SV0LRom-k6IT",
        "colab_type": "text"
      },
      "source": [
        "* _call_dad(), _call_mom() là inner function hay nested function. là function nằm trong 1 function khác"
      ]
    },
    {
      "cell_type": "markdown",
      "metadata": {
        "id": "h7_Nyz_blTbA",
        "colab_type": "text"
      },
      "source": [
        "* thay đổi giá trị phone_number của call_parents() từ trong hàm _call_dad() thì làm ntn?"
      ]
    },
    {
      "cell_type": "code",
      "metadata": {
        "id": "wlyXBMf_k4SE",
        "colab_type": "code",
        "colab": {
          "base_uri": "https://localhost:8080/",
          "height": 68
        },
        "outputId": "c697163a-4b56-49a6-e2f9-f5699e545564"
      },
      "source": [
        "def call_parents():\n",
        "  phone_number = '0123456789'  # default number is dad's number\n",
        "\n",
        "  def _call_dad():\n",
        "    nonlocal phone_number  # truy cập biến phone_number của call_parents() thay vì tạo một biến local\n",
        "    phone_number = '9876543210'\n",
        "    print(f'calling dad: {phone_number}')\n",
        "\n",
        "  def _call_mom():\n",
        "    phone_number = '099999999'\n",
        "    print(f'calling mom: {phone_number}')\n",
        "\n",
        "  _call_dad()\n",
        "  _call_mom()\n",
        "  print(f'default number is: {phone_number}')\n",
        "\n",
        "if __name__ == '__main__':\n",
        "  call_parents()"
      ],
      "execution_count": null,
      "outputs": [
        {
          "output_type": "stream",
          "text": [
            "calling dad: 9876543210\n",
            "calling mom: 099999999\n",
            "default number is: 9876543210\n"
          ],
          "name": "stdout"
        }
      ]
    },
    {
      "cell_type": "markdown",
      "metadata": {
        "id": "gQ50kr_FmAx1",
        "colab_type": "text"
      },
      "source": [
        "* nonlocal hướng dẫn python truy cập biến parent của hàm thay vì tọa 1 local variable mới "
      ]
    },
    {
      "cell_type": "markdown",
      "metadata": {
        "id": "5fCckC49mL6q",
        "colab_type": "text"
      },
      "source": [
        "* nếu sử dụng nonlocal ở trong 1 function không phải inner function thì sẽ có looix"
      ]
    },
    {
      "cell_type": "code",
      "metadata": {
        "id": "OYqXXTDpltBk",
        "colab_type": "code",
        "colab": {
          "base_uri": "https://localhost:8080/",
          "height": 129
        },
        "outputId": "9e60bf66-364b-4450-8e93-d87902a86dc5"
      },
      "source": [
        "my_var2 = 'Global'\n",
        "def test():\n",
        "  nonlocal my_var2\n",
        "  my_var2 = 'Test'\n",
        "  print(my_var2)\n",
        "test()"
      ],
      "execution_count": null,
      "outputs": [
        {
          "output_type": "error",
          "ename": "SyntaxError",
          "evalue": "ignored",
          "traceback": [
            "\u001b[0;36m  File \u001b[0;32m\"<ipython-input-10-ee3064f1e5b1>\"\u001b[0;36m, line \u001b[0;32m3\u001b[0m\n\u001b[0;31m    nonlocal my_var2\u001b[0m\n\u001b[0m    ^\u001b[0m\n\u001b[0;31mSyntaxError\u001b[0m\u001b[0;31m:\u001b[0m no binding for nonlocal 'my_var2' found\n"
          ]
        }
      ]
    }
  ]
}