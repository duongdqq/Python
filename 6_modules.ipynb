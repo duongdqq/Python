{
  "nbformat": 4,
  "nbformat_minor": 0,
  "metadata": {
    "colab": {
      "name": "6_modules",
      "provenance": [],
      "authorship_tag": "ABX9TyNQShJX9wcz/y8cS+BGoEap",
      "include_colab_link": true
    },
    "kernelspec": {
      "name": "python3",
      "display_name": "Python 3"
    }
  },
  "cells": [
    {
      "cell_type": "markdown",
      "metadata": {
        "id": "view-in-github",
        "colab_type": "text"
      },
      "source": [
        "<a href=\"https://colab.research.google.com/github/duongdqq/python_tutorial/blob/master/6_modules.ipynb\" target=\"_parent\"><img src=\"https://colab.research.google.com/assets/colab-badge.svg\" alt=\"Open In Colab\"/></a>"
      ]
    },
    {
      "cell_type": "markdown",
      "metadata": {
        "id": "q-38t7qe6gaE",
        "colab_type": "text"
      },
      "source": [
        "# Modules"
      ]
    },
    {
      "cell_type": "code",
      "metadata": {
        "id": "Idq50ylvKKuq",
        "colab_type": "code",
        "colab": {}
      },
      "source": [
        "def fib(n):    # write Fibonacci series up to n\n",
        "    a, b = 0, 1\n",
        "    while a < n:\n",
        "        print(a, end=' ')\n",
        "        a, b = b, a+b\n",
        "    print()\n",
        "\n",
        "def fib2(n):   # return Fibonacci series up to n\n",
        "    result = []\n",
        "    a, b = 0, 1\n",
        "    while a < n:\n",
        "        result.append(a)\n",
        "        a, b = b, a+b\n",
        "    return result"
      ],
      "execution_count": 1,
      "outputs": []
    },
    {
      "cell_type": "markdown",
      "metadata": {
        "id": "F79n4-jR6gX2",
        "colab_type": "text"
      },
      "source": [
        "## 6.1. More on Modules"
      ]
    },
    {
      "cell_type": "code",
      "metadata": {
        "id": "xIk2C-usJxGj",
        "colab_type": "code",
        "colab": {}
      },
      "source": [
        "from fibo import fib, fib2\n",
        "fib(500)"
      ],
      "execution_count": null,
      "outputs": []
    },
    {
      "cell_type": "markdown",
      "metadata": {
        "id": "oQcIqaSFJ0wQ",
        "colab_type": "text"
      },
      "source": [
        "* Cách trên không import module name từ các import được lấy trong local sympol table\n",
        "* module fibo không được định nghiax"
      ]
    },
    {
      "cell_type": "code",
      "metadata": {
        "id": "D8C8vXAlKO6n",
        "colab_type": "code",
        "colab": {}
      },
      "source": [
        "from fibo import *\n",
        "fib(500)"
      ],
      "execution_count": null,
      "outputs": []
    },
    {
      "cell_type": "markdown",
      "metadata": {
        "id": "CCWZhA3hKivD",
        "colab_type": "text"
      },
      "source": [
        "* cách này ít được sử dụng vì không tường minh. không biết chính xác module nào được import -> khó theo dõi\n",
        "* cách này import tất cả module trừ các module bắt đăù bằng \"_\""
      ]
    },
    {
      "cell_type": "code",
      "metadata": {
        "id": "dXmEnJyvKTQE",
        "colab_type": "code",
        "colab": {}
      },
      "source": [
        "import fibo as fib\n",
        "fib.fib(500)"
      ],
      "execution_count": null,
      "outputs": []
    },
    {
      "cell_type": "markdown",
      "metadata": {
        "id": "hukKWmvALEoE",
        "colab_type": "text"
      },
      "source": [
        "* this is effectively importing the module in the same way that import fibo will do"
      ]
    },
    {
      "cell_type": "code",
      "metadata": {
        "id": "XLr-xzgeLX97",
        "colab_type": "code",
        "colab": {}
      },
      "source": [
        "from fibo import fib as fibonacci\n",
        "fibonacci(500)"
      ],
      "execution_count": null,
      "outputs": []
    },
    {
      "cell_type": "markdown",
      "metadata": {
        "id": "9srh9cXn6gVn",
        "colab_type": "text"
      },
      "source": [
        "6.1.1. Executing modules as scripts"
      ]
    },
    {
      "cell_type": "markdown",
      "metadata": {
        "id": "f0U42RuR6gTF",
        "colab_type": "text"
      },
      "source": [
        "6.1.2. The Module Search Path"
      ]
    },
    {
      "cell_type": "markdown",
      "metadata": {
        "id": "q6ukbHno6gRA",
        "colab_type": "text"
      },
      "source": [
        "6.1.3. “Compiled” Python files"
      ]
    },
    {
      "cell_type": "markdown",
      "metadata": {
        "id": "e02DfQBs6gOl",
        "colab_type": "text"
      },
      "source": [
        "## 6.2. Standard Modules"
      ]
    },
    {
      "cell_type": "markdown",
      "metadata": {
        "id": "YJw4aRCq6gMB",
        "colab_type": "text"
      },
      "source": [
        "## 6.3. The dir() Function"
      ]
    },
    {
      "cell_type": "markdown",
      "metadata": {
        "id": "1Bnyn0RA6gIg",
        "colab_type": "text"
      },
      "source": [
        "## 6.4. Packages"
      ]
    },
    {
      "cell_type": "markdown",
      "metadata": {
        "id": "WV5ORlnk7QYR",
        "colab_type": "text"
      },
      "source": [
        "6.4.1. Importing * From a Package"
      ]
    },
    {
      "cell_type": "markdown",
      "metadata": {
        "id": "TjJ5IS7Z7Tin",
        "colab_type": "text"
      },
      "source": [
        "6.4.2. Intra-package References"
      ]
    },
    {
      "cell_type": "markdown",
      "metadata": {
        "id": "YTKxiGTd7W-s",
        "colab_type": "text"
      },
      "source": [
        "6.4.3. Packages in Multiple Directories"
      ]
    }
  ]
}