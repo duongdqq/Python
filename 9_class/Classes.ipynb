{
  "nbformat": 4,
  "nbformat_minor": 0,
  "metadata": {
    "colab": {
      "name": "Classes.ipynb",
      "provenance": [],
      "collapsed_sections": [],
      "toc_visible": true,
      "authorship_tag": "ABX9TyNf0vBlhmSQENOqxeJFIltT",
      "include_colab_link": true
    },
    "kernelspec": {
      "name": "python3",
      "display_name": "Python 3"
    },
    "accelerator": "GPU"
  },
  "cells": [
    {
      "cell_type": "markdown",
      "metadata": {
        "id": "view-in-github",
        "colab_type": "text"
      },
      "source": [
        "<a href=\"https://colab.research.google.com/github/duongdqq/python/blob/master/9_class/Classes.ipynb\" target=\"_parent\"><img src=\"https://colab.research.google.com/assets/colab-badge.svg\" alt=\"Open In Colab\"/></a>"
      ]
    },
    {
      "cell_type": "markdown",
      "metadata": {
        "id": "dCUlvB1WLGyu",
        "colab_type": "text"
      },
      "source": [
        "# 9. Classes\n"
      ]
    },
    {
      "cell_type": "markdown",
      "metadata": {
        "id": "FQJiJwxkLKXb",
        "colab_type": "text"
      },
      "source": [
        "* Python classes provide all the standard features of OOP\n",
        "  * class inheritance mechanism allows multiple base classes (inheritance)\n",
        "  * override any methods of its base class or classes (overriding of polymorphism)\n",
        "  * a method can call the method of a base class with the same name\n",
        "  * object can contain arbitrary amounts and kinds of data\n",
        "  * classes partake of the dynamic nature of Python"
      ]
    },
    {
      "cell_type": "markdown",
      "metadata": {
        "id": "NKF379-oKWxI",
        "colab_type": "text"
      },
      "source": [
        "## 9.1. A Word About Names and Objects"
      ]
    },
    {
      "cell_type": "markdown",
      "metadata": {
        "id": "WjgS_AZ0Kb_s",
        "colab_type": "text"
      },
      "source": [
        "## 9.2. Python Scopes and Namespaces"
      ]
    },
    {
      "cell_type": "markdown",
      "metadata": {
        "id": "cehrZiQjvCk7",
        "colab_type": "text"
      },
      "source": [
        "* Namespace là 1 mapping từ names đến objects. \n",
        "* Phần lớn namespace được implemented như 1 python dictionary\n",
        "* VD tập hợp của các built-in names (abs(), built-in exception names), global names trong 1 module, local name trong 1 lời gọi hàm\n",
        "* Tập hợp các thuộc tính của 1 object cũng tạo nên 1 namespace\n",
        "* Đặc biệt, không có mối quan hệ nào giữa names trong các namespaces khác nhau\n",
        "* VD 2 modules khác nhau có thể đều định nghĩa 1 hàm maximize mà không có nhầm lẫn gì. Người dùng của các modules phải tiền tố nó bằng tên module"
      ]
    },
    {
      "cell_type": "markdown",
      "metadata": {
        "id": "2z7YOAEum2q9",
        "colab_type": "text"
      },
      "source": [
        "* Trong biểu thức z.real, real là 1 thuộc tính của đối tượng z\n",
        "* Nói 1 cách chắc chắn, tham chiếu đến names trong modules là tham chiếu thuộc tính\n",
        "* trong biểu thức modname.funcname, modname là module object và funcname là 1 thuộc tính của modname\n",
        "* xảy ra 1 ánh xạ giữa các thuộc tính của module và global names được định nghĩa trong module: chúng chia sẻ cùng namespace"
      ]
    },
    {
      "cell_type": "markdown",
      "metadata": {
        "id": "TrNO86wFolu2",
        "colab_type": "text"
      },
      "source": [
        "* thuộc tính có thể là read only hoặc writable\n",
        "* trong những trường hợp sau này, có thể gán cho 1 thuộc tính\n",
        "* thuộc tính module có tính writable tức là có thể viết modname.the_answer = 42. thuộc tính writable có thể được xóa với lệnh del\n",
        "* VD del modname.the_answer sẽ xóa thuộc tính the_answer từ đối tượng có tên modname"
      ]
    },
    {
      "cell_type": "markdown",
      "metadata": {
        "id": "BdtdDHQDpWc-",
        "colab_type": "text"
      },
      "source": [
        "* namespace được tạo ở những thời điểm khác nhau và có thời gian làm tồn tại khác nhau\n",
        "* namespace chứa built in names được tạo khi trình thông dịch python chạy và không bao giờ xóa được\n",
        "* global namespace của 1 module được tạo khi định nghĩa module là read in\n",
        "* thông thường module namespace cũng kéo dài cho đến khi trình thông dịch dừng\n",
        "* câu lệnh thực thi bởi lời gọi cấp cao của trình thông dịch. hoặc là đọc từ script hoặc tương tác được xem như là 1 phần của module __main__\n",
        "* do đó chúng có global namespace riêng\n",
        "* built in names thực tế cũng tồn tại trong module, được gọi là builtins"
      ]
    },
    {
      "cell_type": "markdown",
      "metadata": {
        "id": "DSITgpO-qnv3",
        "colab_type": "text"
      },
      "source": [
        "* local namespace được tạo khi 1 hàm được gọi và xóa khi hàm đó trả kết quả hoặc xuất hiện 1 exception mà không được xử lý trong hàm\n",
        "* mỗi lời gọi đệ quy có local namespace riêng của chúng "
      ]
    },
    {
      "cell_type": "markdown",
      "metadata": {
        "id": "13_2RsgZrsLH",
        "colab_type": "text"
      },
      "source": [
        "* scope là vùng văn bản trong chương trình python trong đó namespace được truy cập trực tiếp. truy cập trực tiếp là 1 tham chiếu không đủ tiêu chuẩn đến 1 name nhằm tìm tên đó trong namespace"
      ]
    },
    {
      "cell_type": "markdown",
      "metadata": {
        "id": "wknT623xsFPG",
        "colab_type": "text"
      },
      "source": [
        "* mặc dù scope được xác định tĩnh, chúng thường được sử dụng theo kiểu động\n",
        "* ở bất kỳ thời điểm nào trong phần thực thi, có 3 hoặc 4 nested scope có namespace được truy cập trực tiếp\n",
        "  * scope trong cùng, được tìm kiếm đầu tiên chứa local name\n",
        "  * scope của các function bao quanh, cái mà được tìm kiếm bắt đầu với scope bao quanh gần nhất, chứa non local nhưng cũng chứa non global name\n",
        "  * scope tiếp theo đến cuối cùng chứa global name của module hiện tại\n",
        "  * scope ngoài cùng, được tìm kiếm cuối là namespace chứa built in names"
      ]
    },
    {
      "cell_type": "markdown",
      "metadata": {
        "id": "H4SYL7djKhrF",
        "colab_type": "text"
      },
      "source": [
        "### 9.2.1. Scopes and Namespaces Example"
      ]
    },
    {
      "cell_type": "code",
      "metadata": {
        "id": "_xBiUhpLSk_o",
        "colab_type": "code",
        "colab": {
          "base_uri": "https://localhost:8080/",
          "height": 85
        },
        "outputId": "b2c2d70c-6313-4a8c-fc07-840db204d5c7"
      },
      "source": [
        "def score_test():\n",
        "  def do_local():\n",
        "    spam = \"local spam\"\n",
        "  \n",
        "  def do_nonlocal():\n",
        "    nonlocal spam\n",
        "    spam = \"nonlocal spam\"\n",
        "\n",
        "  def do_global():\n",
        "    global spam\n",
        "    spam = \"global spam\"\n",
        "\n",
        "  spam = \"test spam\"\n",
        "  do_local()\n",
        "  print(spam)\n",
        "  do_nonlocal()\n",
        "  print(spam)\n",
        "  do_global()\n",
        "  print(spam)\n",
        "\n",
        "score_test()\n",
        "print(spam)"
      ],
      "execution_count": null,
      "outputs": [
        {
          "output_type": "stream",
          "text": [
            "test spam\n",
            "nonlocal spam\n",
            "nonlocal spam\n",
            "global spam\n"
          ],
          "name": "stdout"
        }
      ]
    },
    {
      "cell_type": "markdown",
      "metadata": {
        "id": "-Nlp5aePT5iZ",
        "colab_type": "text"
      },
      "source": [
        "* local assignment doesnt change binding of spam of scope test\n",
        "* nonlocal assignment does\n",
        "* global assignment changes the module level binding"
      ]
    },
    {
      "cell_type": "markdown",
      "metadata": {
        "id": "-E6YxYwGKkV7",
        "colab_type": "text"
      },
      "source": [
        "## 9.3. A First Look at Classes"
      ]
    },
    {
      "cell_type": "markdown",
      "metadata": {
        "id": "Y-8hdV8HKmeh",
        "colab_type": "text"
      },
      "source": [
        "### 9.3.1. Class Definition Syntax"
      ]
    },
    {
      "cell_type": "code",
      "metadata": {
        "id": "3ybsJhHWuJ9S",
        "colab_type": "code",
        "colab": {}
      },
      "source": [
        "class ClassName:\n",
        "    a = 1  # statement 1\n",
        "    ...\n",
        "    a = 100  # statement N"
      ],
      "execution_count": null,
      "outputs": []
    },
    {
      "cell_type": "markdown",
      "metadata": {
        "id": "kDm5zzW8uZ08",
        "colab_type": "text"
      },
      "source": [
        "* định nghĩa class giống định nghĩa function (def) phải được thực thi trước khi chúng có bất kỳ ảnh hưởng nào \n",
        "* thử đặt 1 định nghĩa lớp ở 1 nhánh của lệnh if hoặc bên trong 1 hàm "
      ]
    },
    {
      "cell_type": "code",
      "metadata": {
        "id": "m-H6Ef9wvUyW",
        "colab_type": "code",
        "colab": {
          "base_uri": "https://localhost:8080/",
          "height": 34
        },
        "outputId": "4770bc55-9108-4e66-c6c4-c00635328c62"
      },
      "source": [
        "if 1:\n",
        "  class abc:\n",
        "    a = 1\n",
        "    print(a)"
      ],
      "execution_count": null,
      "outputs": [
        {
          "output_type": "stream",
          "text": [
            "1\n"
          ],
          "name": "stdout"
        }
      ]
    },
    {
      "cell_type": "markdown",
      "metadata": {
        "id": "amEUwSWiwLjM",
        "colab_type": "text"
      },
      "source": [
        "* các câu lệnh bên trong định nghĩa class thường là định nghĩa function\n",
        "* các câu lệnh khác cũng được sử dụng\n",
        "* định nghĩa function bên trong 1 class thường có 1 hình thức đặc biệt của argument list"
      ]
    },
    {
      "cell_type": "markdown",
      "metadata": {
        "id": "dodfOG9Lwwe1",
        "colab_type": "text"
      },
      "source": [
        "* khi 1 định nghĩa class được đưa vào, 1 namespace mới được tạo và được sử dụng như 1 local scope\n",
        "* do đó tất cả các phép gán với biến local đi vào trong newspace mới\n",
        "* cụ thể, định nghĩa hàm ràng buộc tên của hàm tại đây "
      ]
    },
    {
      "cell_type": "markdown",
      "metadata": {
        "id": "CXUeX3cwxIzc",
        "colab_type": "text"
      },
      "source": [
        "* khi 1 định nghĩa class được để lại thông thường, 1 class object được tạo\n",
        "* đây là 1 cái bọc bọc quanh nội dung của namespace được tạo bởi định nghĩa class\n",
        "* local scope nguyên thể (scope có hiệu lực ngay khi định nghĩa class được đưa vào) được phục hôi \n",
        "* class object được liên kết ở đây đến class name được đưa ra ở header của định nghĩa lớp (ClassName trong vd trên)"
      ]
    },
    {
      "cell_type": "markdown",
      "metadata": {
        "id": "j0cJ7HxiKobp",
        "colab_type": "text"
      },
      "source": [
        "### 9.3.2. Class Objects"
      ]
    },
    {
      "cell_type": "markdown",
      "metadata": {
        "id": "OybaI0-w1DGD",
        "colab_type": "text"
      },
      "source": [
        "* các class object hỗ trợ 2 phép toán\n",
        "  * attribute reference\n",
        "  * instantiation"
      ]
    },
    {
      "cell_type": "markdown",
      "metadata": {
        "id": "jAlaOixO1M8c",
        "colab_type": "text"
      },
      "source": [
        "* attribute references sử dụng cú pháp tiêu chuẩn được sử dụng cho tất cả các tham chiếu thuộc tính trong python: obj.name\n",
        "* attribute names đúng là tất cả các tên đã nằm bên trong newspace của class khi class object được tạo "
      ]
    },
    {
      "cell_type": "code",
      "metadata": {
        "id": "u8OMkCVq1wjq",
        "colab_type": "code",
        "colab": {}
      },
      "source": [
        "class MyClass:\n",
        "  'a simple example class'\n",
        "  i = 12345\n",
        "  def f(self):\n",
        "    return 'hello world'"
      ],
      "execution_count": 1,
      "outputs": []
    },
    {
      "cell_type": "markdown",
      "metadata": {
        "id": "wX0ItB4h16EP",
        "colab_type": "text"
      },
      "source": [
        "* MyClass.i và MyClass.f là các tham chiếu thuộc tính đúng, trả về số integer 12345 và 1 function object\n",
        "* thuộc tính class có thể được gán nên ta có thể thay đổi giá trị của MyClass.i bằng phép gán\n",
        "* __doc__ là 1 thuộc tính đúng, trả về docstring thuộc về class 'a simple example class'"
      ]
    },
    {
      "cell_type": "code",
      "metadata": {
        "id": "3601V16V2dNi",
        "colab_type": "code",
        "colab": {
          "base_uri": "https://localhost:8080/",
          "height": 51
        },
        "outputId": "f3138f94-7adc-4901-b82b-91c473c6f0d4"
      },
      "source": [
        "print(MyClass.i)\n",
        "MyClass.f"
      ],
      "execution_count": 2,
      "outputs": [
        {
          "output_type": "stream",
          "text": [
            "12345\n"
          ],
          "name": "stdout"
        },
        {
          "output_type": "execute_result",
          "data": {
            "text/plain": [
              "<function __main__.MyClass.f>"
            ]
          },
          "metadata": {
            "tags": []
          },
          "execution_count": 2
        }
      ]
    },
    {
      "cell_type": "markdown",
      "metadata": {
        "id": "EUwEUxAV3Kce",
        "colab_type": "text"
      },
      "source": [
        "* tính tức thời của class sử dụng ký hiệu hàm\n",
        "* chỉ giả sử class object là 1 hàm không có tham số trả về 1 new instance của class"
      ]
    },
    {
      "cell_type": "code",
      "metadata": {
        "id": "iEo05J0p3KFq",
        "colab_type": "code",
        "colab": {
          "base_uri": "https://localhost:8080/",
          "height": 34
        },
        "outputId": "d9b8a47e-a3c9-4881-9405-084ac46d1145"
      },
      "source": [
        "x = MyClass()\n",
        "x"
      ],
      "execution_count": 3,
      "outputs": [
        {
          "output_type": "execute_result",
          "data": {
            "text/plain": [
              "<__main__.MyClass at 0x7ffaa435a978>"
            ]
          },
          "metadata": {
            "tags": []
          },
          "execution_count": 3
        }
      ]
    },
    {
      "cell_type": "markdown",
      "metadata": {
        "id": "95vz7HXc3cVf",
        "colab_type": "text"
      },
      "source": [
        "* code trên tạo 1 ví dụ của class và gán object này cho biến local x"
      ]
    },
    {
      "cell_type": "markdown",
      "metadata": {
        "id": "Qk6WrYaW3wpV",
        "colab_type": "text"
      },
      "source": [
        "* phép toán tức thời (gọi 1 class object) tạo 1 object rỗng\n",
        "* nhiều class muốn tạo objects với các instance được tùy chỉnh 1 trạng thái khởi tạo cụ thể\n",
        "* vì cậy 1 class có thể định nghĩa 1 method đặc biệt gọi là __init__()"
      ]
    },
    {
      "cell_type": "code",
      "metadata": {
        "id": "GewGVMk_4Mfr",
        "colab_type": "code",
        "colab": {}
      },
      "source": [
        "def __init_(self):\n",
        "  self.data = []"
      ],
      "execution_count": null,
      "outputs": []
    },
    {
      "cell_type": "markdown",
      "metadata": {
        "id": "kdsX9siM4mcv",
        "colab_type": "text"
      },
      "source": [
        "* khi 1 class định nghĩa method __init__(), class instantiation (tức thời class) tự động goij __init__() cho ví dụ class mới tạo \n",
        "* trong ví dụ dưới, 1 ví dụ được khởi tạo có thể đạt được boiwr"
      ]
    },
    {
      "cell_type": "code",
      "metadata": {
        "id": "KN-r2Tgr5GG1",
        "colab_type": "code",
        "colab": {
          "base_uri": "https://localhost:8080/",
          "height": 34
        },
        "outputId": "1fbd1255-0b36-4cd0-f998-c3d172280755"
      },
      "source": [
        "x = MyClass()\n",
        "x"
      ],
      "execution_count": 4,
      "outputs": [
        {
          "output_type": "execute_result",
          "data": {
            "text/plain": [
              "<__main__.MyClass at 0x7ffaa4385080>"
            ]
          },
          "metadata": {
            "tags": []
          },
          "execution_count": 4
        }
      ]
    },
    {
      "cell_type": "markdown",
      "metadata": {
        "id": "1beC4YgI5Ukj",
        "colab_type": "text"
      },
      "source": [
        "* __init__() method có nhiều argument để uyển chuyển hơn\n",
        "* các argument được cung cấp cho operator class instantiation được truyền vào __init__()"
      ]
    },
    {
      "cell_type": "code",
      "metadata": {
        "id": "4kqIjOSQ5stj",
        "colab_type": "code",
        "colab": {
          "base_uri": "https://localhost:8080/",
          "height": 51
        },
        "outputId": "df5466f6-5e89-4457-e4be-b752dcb02c22"
      },
      "source": [
        "class Complex:\n",
        "  def __init__(self, realpart, imagpart):\n",
        "    self.r = realpart\n",
        "    self.i = imagpart\n",
        "\n",
        "x = Complex(3.0, -1.5)\n",
        "print(x.r)\n",
        "print(x.i)"
      ],
      "execution_count": null,
      "outputs": [
        {
          "output_type": "stream",
          "text": [
            "3.0\n",
            "-1.5\n"
          ],
          "name": "stdout"
        }
      ]
    },
    {
      "cell_type": "markdown",
      "metadata": {
        "id": "49AVUaOeKrXE",
        "colab_type": "text"
      },
      "source": [
        "### 9.3.3. Instance Objects"
      ]
    },
    {
      "cell_type": "markdown",
      "metadata": {
        "id": "yyplgER7VURS",
        "colab_type": "text"
      },
      "source": [
        "* Phép toán được hiểu bởi instance object là các attribute reference\n",
        "* có 2 loại attribute name đúng\n",
        "  * data attribute\n",
        "  * method"
      ]
    },
    {
      "cell_type": "markdown",
      "metadata": {
        "id": "0Pv2FuDwV3V7",
        "colab_type": "text"
      },
      "source": [
        "* data attribute liên quan đến instance variable trong Smalltalk và data member trong C++\n",
        "* data attribute không cần được khai báo, giống local variable, chúng bắt đầu tồn tại khi lần đầu được khai báo\n",
        "* Vd nếu x là instance của MyClass, đoạn code sau sẽ trả về giá trị 16 mà không để lại dấu vết naof"
      ]
    },
    {
      "cell_type": "code",
      "metadata": {
        "id": "Z_CStnyVWRvq",
        "colab_type": "code",
        "colab": {
          "base_uri": "https://localhost:8080/",
          "height": 34
        },
        "outputId": "3c252869-33f8-4a6b-cf32-dce7618b10c5"
      },
      "source": [
        "x.counter = 1\n",
        "while x.counter < 10:\n",
        "  x.counter *= 2\n",
        "print(x.counter)"
      ],
      "execution_count": null,
      "outputs": [
        {
          "output_type": "stream",
          "text": [
            "16\n"
          ],
          "name": "stdout"
        }
      ]
    },
    {
      "cell_type": "code",
      "metadata": {
        "id": "H_HHwEVKW5KA",
        "colab_type": "code",
        "colab": {}
      },
      "source": [
        "del x.counter"
      ],
      "execution_count": null,
      "outputs": []
    },
    {
      "cell_type": "markdown",
      "metadata": {
        "id": "E-g9XZTRXJEf",
        "colab_type": "text"
      },
      "source": [
        "* một instance attribute reference khác là method\n",
        "* method là 1 hàm của 1 object\n",
        "* tên đúng của method của 1 instance object phụ thuộc vào class của nó\n",
        "* tất cả attribute của 1 class là các function object tương ứng với method của instance của nó\n",
        "* x.f là 1 method reference đúng vì MyClass.f là 1 hàm\n",
        "* x.i không phải là method reference\n",
        "* x.f không giống MyClass.f\n",
        "* x.f là method object"
      ]
    },
    {
      "cell_type": "markdown",
      "metadata": {
        "id": "6VG3-elHKtvY",
        "colab_type": "text"
      },
      "source": [
        "### 9.3.4. Method Objects"
      ]
    },
    {
      "cell_type": "code",
      "metadata": {
        "id": "0bz5bepYLItq",
        "colab_type": "code",
        "colab": {
          "base_uri": "https://localhost:8080/",
          "height": 35
        },
        "outputId": "0bfd215f-3c9d-456f-dfd5-501d3feee261"
      },
      "source": [
        "x.f()"
      ],
      "execution_count": 5,
      "outputs": [
        {
          "output_type": "execute_result",
          "data": {
            "application/vnd.google.colaboratory.intrinsic+json": {
              "type": "string"
            },
            "text/plain": [
              "'hello world'"
            ]
          },
          "metadata": {
            "tags": []
          },
          "execution_count": 5
        }
      ]
    },
    {
      "cell_type": "code",
      "metadata": {
        "id": "h_vEZjENLTyg",
        "colab_type": "code",
        "colab": {
          "base_uri": "https://localhost:8080/",
          "height": 35
        },
        "outputId": "f8e845af-a7ba-489b-89e2-014f7cbd9db7"
      },
      "source": [
        "MyClass().f()"
      ],
      "execution_count": 8,
      "outputs": [
        {
          "output_type": "execute_result",
          "data": {
            "application/vnd.google.colaboratory.intrinsic+json": {
              "type": "string"
            },
            "text/plain": [
              "'hello world'"
            ]
          },
          "metadata": {
            "tags": []
          },
          "execution_count": 8
        }
      ]
    },
    {
      "cell_type": "markdown",
      "metadata": {
        "id": "F2fQJ6CgLyiu",
        "colab_type": "text"
      },
      "source": [
        "* x.f là method object, can be stored away and called at a later time"
      ]
    },
    {
      "cell_type": "code",
      "metadata": {
        "id": "U2qPdPcLL_GE",
        "colab_type": "code",
        "colab": {
          "base_uri": "https://localhost:8080/",
          "height": 34
        },
        "outputId": "4758b720-4a42-4ca9-800c-56e5237a3dc8"
      },
      "source": [
        "x.f"
      ],
      "execution_count": 10,
      "outputs": [
        {
          "output_type": "execute_result",
          "data": {
            "text/plain": [
              "<bound method MyClass.f of <__main__.MyClass object at 0x7ffaa4385080>>"
            ]
          },
          "metadata": {
            "tags": []
          },
          "execution_count": 10
        }
      ]
    },
    {
      "cell_type": "code",
      "metadata": {
        "id": "ngSchkroLsn0",
        "colab_type": "code",
        "colab": {}
      },
      "source": [
        "xf = x.f\n",
        "while True:\n",
        "  print(xf())"
      ],
      "execution_count": null,
      "outputs": []
    },
    {
      "cell_type": "markdown",
      "metadata": {
        "id": "tR56UL6hMGsi",
        "colab_type": "text"
      },
      "source": [
        "* x.f() được gọi mà không cần 1 đối số nào. Mặc dù định nghĩa hàm f() có 1 đối số\n",
        "* Python đã raise 1 ngoại lệ khi 1 hàm yêu cầu 1 đối số được gọi mà không có bất kỳ đối số nào được dùng\n",
        "* Điều đặc biệt của method là instance object được truyền vào như đối số đầu tiên của hàm\n",
        "* lệnh gọi x.f() tương đương với MyClass.f(x)\n",
        "* Nói chung, gọi 1 method với 1 danh sách gồm n đối số tương đương với gọi các hàm tương ứng của nó với 1 danh sách đối số được tạo bởi việc chèn các instance object của method trước lệnh gán đầu tiene"
      ]
    },
    {
      "cell_type": "markdown",
      "metadata": {
        "id": "cxEoTq6VTfws",
        "colab_type": "text"
      },
      "source": [
        "* Khi một thuộc tính phi dữ liệu của 1 instance được tham chiếu, instance's class được tìm kiếm\n",
        "* nếu tên biểu thị 1 class attribute đúng - 1 function object, 1 method object sẽ được tạo bởi đóng gói (trỏ đến ) instance object và function object chỉ tìm cùng nhau trong 1 abstract object. Đây là method object\n",
        "* khi method object được gọi với 1 danh sách đối số, 1 danh sách đối số mới sẽ được tạo từ instance ibject và danh sách đối số này.\n",
        "* Và function object được gọi với 1 danh sách đối số mới"
      ]
    },
    {
      "cell_type": "markdown",
      "metadata": {
        "id": "CWffiFaMKwGV",
        "colab_type": "text"
      },
      "source": [
        "### 9.3.5. Class and Instance Variables"
      ]
    },
    {
      "cell_type": "code",
      "metadata": {
        "id": "tC0aqmXWrDPx",
        "colab_type": "code",
        "colab": {
          "base_uri": "https://localhost:8080/",
          "height": 85
        },
        "outputId": "b4d59aa3-49e8-49b3-9201-659ed70c4baa"
      },
      "source": [
        "class dog:\n",
        "  kind = 'canine'  # class variable shared by all instance\n",
        "  \n",
        "  def __init__(self, name):\n",
        "    self.name = name\n",
        "\n",
        "d = dog('Fido')\n",
        "e = dog('Buddy')\n",
        "print(d.kind)  # shared by all dog\n",
        "print(e.kind)  # shared by all dog\n",
        "print(d.name)  # unique to d\n",
        "print(e.name)  # unique to e"
      ],
      "execution_count": 4,
      "outputs": [
        {
          "output_type": "stream",
          "text": [
            "canine\n",
            "canine\n",
            "Fido\n",
            "Buddy\n"
          ],
          "name": "stdout"
        }
      ]
    },
    {
      "cell_type": "code",
      "metadata": {
        "id": "CPf8zV0luDLa",
        "colab_type": "code",
        "colab": {
          "base_uri": "https://localhost:8080/",
          "height": 34
        },
        "outputId": "4c97ba6b-90ba-4e48-8b13-ee742b05a171"
      },
      "source": [
        "class dog:\n",
        "  tricks = []  # mistaken use of a class variable\n",
        "\n",
        "  def __init__(self, name):\n",
        "    self.name = name\n",
        "\n",
        "  def add_trick(self, trick):\n",
        "    self.tricks.append(trick)\n",
        "\n",
        "d = dog('fido')\n",
        "e = dog('buddy')\n",
        "d.add_trick('roll over')\n",
        "e.add_trick('play dead')\n",
        "\n",
        "d.tricks  # unexpectedly shared by all dogs"
      ],
      "execution_count": 8,
      "outputs": [
        {
          "output_type": "execute_result",
          "data": {
            "text/plain": [
              "['roll over', 'play dead']"
            ]
          },
          "metadata": {
            "tags": []
          },
          "execution_count": 8
        }
      ]
    },
    {
      "cell_type": "code",
      "metadata": {
        "id": "PneLbnYvu1UC",
        "colab_type": "code",
        "colab": {
          "base_uri": "https://localhost:8080/",
          "height": 51
        },
        "outputId": "916aeba8-8d7c-470b-b597-749b14900a39"
      },
      "source": [
        "class dog:\n",
        "  def __init__(self, name):\n",
        "    self.name = name\n",
        "    self.tricks = []  # creates a new empty list for each dog\n",
        "\n",
        "  def add_trick(self, trick):\n",
        "    self.tricks.append(trick)\n",
        "\n",
        "d = dog('fido')\n",
        "e = dog('buddy')\n",
        "d.add_trick('roll over')\n",
        "e.add_trick('play dead')\n",
        "\n",
        "print(d.tricks) \n",
        "print(e.tricks) "
      ],
      "execution_count": 12,
      "outputs": [
        {
          "output_type": "stream",
          "text": [
            "['roll over']\n",
            "['play dead']\n"
          ],
          "name": "stdout"
        }
      ]
    },
    {
      "cell_type": "markdown",
      "metadata": {
        "id": "ShkA-8jPKydj",
        "colab_type": "text"
      },
      "source": [
        "## 9.4. Random Remarks"
      ]
    },
    {
      "cell_type": "markdown",
      "metadata": {
        "id": "9XlH9qfSK08M",
        "colab_type": "text"
      },
      "source": [
        "## 9.5. Inheritance"
      ]
    },
    {
      "cell_type": "markdown",
      "metadata": {
        "id": "-EGQyImWK3q0",
        "colab_type": "text"
      },
      "source": [
        "### 9.5.1. Multiple Inheritance"
      ]
    },
    {
      "cell_type": "markdown",
      "metadata": {
        "id": "SUVt5RP9K56i",
        "colab_type": "text"
      },
      "source": [
        "## 9.6. Private Variables"
      ]
    },
    {
      "cell_type": "markdown",
      "metadata": {
        "id": "r2J7kTs0K9uw",
        "colab_type": "text"
      },
      "source": [
        "## 9.7. Odds and Ends"
      ]
    },
    {
      "cell_type": "markdown",
      "metadata": {
        "id": "zw-lXSzRK_3x",
        "colab_type": "text"
      },
      "source": [
        "## 9.8. Iterators"
      ]
    },
    {
      "cell_type": "markdown",
      "metadata": {
        "id": "jFRSKaoOLCDp",
        "colab_type": "text"
      },
      "source": [
        "## 9.9. Generators"
      ]
    },
    {
      "cell_type": "markdown",
      "metadata": {
        "id": "fIZDBsvzLEGD",
        "colab_type": "text"
      },
      "source": [
        "## 9.10. Generator Expressions"
      ]
    },
    {
      "cell_type": "code",
      "metadata": {
        "id": "pKxf-B458802",
        "colab_type": "code",
        "colab": {}
      },
      "source": [
        "  "
      ],
      "execution_count": null,
      "outputs": []
    }
  ]
}