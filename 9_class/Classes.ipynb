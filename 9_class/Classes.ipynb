{
  "nbformat": 4,
  "nbformat_minor": 0,
  "metadata": {
    "colab": {
      "name": "Classes.ipynb",
      "provenance": [],
      "collapsed_sections": [],
      "authorship_tag": "ABX9TyMs/fGyRJA6IXwm3MdpxV2e",
      "include_colab_link": true
    },
    "kernelspec": {
      "name": "python3",
      "display_name": "Python 3"
    },
    "accelerator": "GPU"
  },
  "cells": [
    {
      "cell_type": "markdown",
      "metadata": {
        "id": "view-in-github",
        "colab_type": "text"
      },
      "source": [
        "<a href=\"https://colab.research.google.com/github/duongdqq/python/blob/master/9_class/Classes.ipynb\" target=\"_parent\"><img src=\"https://colab.research.google.com/assets/colab-badge.svg\" alt=\"Open In Colab\"/></a>"
      ]
    },
    {
      "cell_type": "markdown",
      "metadata": {
        "id": "dCUlvB1WLGyu",
        "colab_type": "text"
      },
      "source": [
        "# 9. Classes\n"
      ]
    },
    {
      "cell_type": "markdown",
      "metadata": {
        "id": "FQJiJwxkLKXb",
        "colab_type": "text"
      },
      "source": [
        "* Python classes provide all the standard features of OOP\n",
        "  * class inheritance mechanism allows multiple base classes (inheritance)\n",
        "  * override any methods of its base class or classes (overriding of polymorphism)\n",
        "  * a method can call the method of a base class with the same name\n",
        "  * object can contain arbitrary amounts and kinds of data\n",
        "  * classes partake of the dynamic nature of Python"
      ]
    },
    {
      "cell_type": "markdown",
      "metadata": {
        "id": "NKF379-oKWxI",
        "colab_type": "text"
      },
      "source": [
        "## 9.1. A Word About Names and Objects"
      ]
    },
    {
      "cell_type": "code",
      "metadata": {
        "id": "aEy6ncyonsRC",
        "colab_type": "code",
        "colab": {}
      },
      "source": [
        ""
      ],
      "execution_count": null,
      "outputs": []
    },
    {
      "cell_type": "markdown",
      "metadata": {
        "id": "WjgS_AZ0Kb_s",
        "colab_type": "text"
      },
      "source": [
        "## 9.2. Python Scopes and Namespaces"
      ]
    },
    {
      "cell_type": "markdown",
      "metadata": {
        "id": "cehrZiQjvCk7",
        "colab_type": "text"
      },
      "source": [
        "* Namespace là 1 mapping từ names đến objects. \n",
        "* Phần lớn namespace được implemented như 1 python dictionary\n",
        "* VD tập hợp của các built-in names (abs(), built-in exception names), global names trong 1 module, local name trong 1 lời gọi hàm\n",
        "* Tập hợp các thuộc tính của 1 object cũng tạo nên 1 namespace\n",
        "* Đặc biệt, không có mối quan hệ nào giữa names trong các namespaces khác nhau\n",
        "* VD 2 modules khác nhau có thể đều định nghĩa 1 hàm maximize mà không có nhầm lẫn gì. Người dùng của các modules phải tiền tố nó bằng tên module"
      ]
    },
    {
      "cell_type": "markdown",
      "metadata": {
        "id": "2z7YOAEum2q9",
        "colab_type": "text"
      },
      "source": [
        "* Trong biểu thức z.real, real là 1 thuộc tính của đối tượng z\n",
        "* Nói 1 cách chắc chắn, tham chiếu đến names trong modules là tham chiếu thuộc tính\n",
        "* trong biểu thức modname.funcname, modname là module object và funcname là 1 thuộc tính của modname\n",
        "* xảy ra 1 ánh xạ giữa các thuộc tính của module và global names được định nghĩa trong module: chúng chia sẻ cùng namespace"
      ]
    },
    {
      "cell_type": "markdown",
      "metadata": {
        "id": "TrNO86wFolu2",
        "colab_type": "text"
      },
      "source": [
        "* thuộc tính có thể là read only hoặc writable\n",
        "* trong những trường hợp sau này, có thể gán cho 1 thuộc tính\n",
        "* thuộc tính module có tính writable tức là có thể viết modname.the_answer = 42. thuộc tính writable có thể được xóa với lệnh del\n",
        "* VD del modname.the_answer sẽ xóa thuộc tính the_answer từ đối tượng có tên modname"
      ]
    },
    {
      "cell_type": "markdown",
      "metadata": {
        "id": "BdtdDHQDpWc-",
        "colab_type": "text"
      },
      "source": [
        "* namespace được tạo ở những thời điểm khác nhau và có thời gian làm tồn tại khác nhau\n",
        "* namespace chứa built in names được tạo khi trình thông dịch python chạy và không bao giờ xóa được\n",
        "* global namespace của 1 module được tạo khi định nghĩa module là read in\n",
        "* thông thường module namespace cũng kéo dài cho đến khi trình thông dịch dừng\n",
        "* câu lệnh thực thi bởi lời gọi cấp cao của trình thông dịch. hoặc là đọc từ script hoặc tương tác được xem như là 1 phần của module __main__\n",
        "* do đó chúng có global namespace riêng\n",
        "* built in names thực tế cũng tồn tại trong module, được gọi là builtins"
      ]
    },
    {
      "cell_type": "markdown",
      "metadata": {
        "id": "DSITgpO-qnv3",
        "colab_type": "text"
      },
      "source": [
        "* local namespace được tạo khi 1 hàm được gọi và xóa khi hàm đó trả kết quả hoặc xuất hiện 1 exception mà không được xử lý trong hàm\n",
        "* mỗi lời gọi đệ quy có local namespace riêng của chúng "
      ]
    },
    {
      "cell_type": "markdown",
      "metadata": {
        "id": "13_2RsgZrsLH",
        "colab_type": "text"
      },
      "source": [
        "* scope là vùng văn bản trong chương trình python trong đó namespace được truy cập trực tiếp. truy cập trực tiếp là 1 tham chiếu không đủ tiêu chuẩn đến 1 name nhằm tìm tên đó trong namespace"
      ]
    },
    {
      "cell_type": "markdown",
      "metadata": {
        "id": "wknT623xsFPG",
        "colab_type": "text"
      },
      "source": [
        "* mặc dù scope được xác định tĩnh, chúng thường được sử dụng theo kiểu động\n",
        "* ở bất kỳ thời điểm nào trong phần thực thi, có 3 hoặc 4 nested scope có namespace được truy cập trực tiếp\n",
        "  * scope trong cùng, được tìm kiếm đầu tiên chứa local name\n",
        "  * scope của các function bao quanh, cái mà được tìm kiếm bắt đầu với scope bao quanh gần nhất, chứa non local nhưng cũng chứa non global name\n",
        "  * scope tiếp theo đến cuối cùng chứa global name của module hiện tại\n",
        "  * scope ngoài cùng, được tìm kiếm cuối là namespace chứa built in names"
      ]
    },
    {
      "cell_type": "markdown",
      "metadata": {
        "id": "H4SYL7djKhrF",
        "colab_type": "text"
      },
      "source": [
        "### 9.2.1. Scopes and Namespaces Example"
      ]
    },
    {
      "cell_type": "code",
      "metadata": {
        "id": "_xBiUhpLSk_o",
        "colab_type": "code",
        "colab": {
          "base_uri": "https://localhost:8080/",
          "height": 85
        },
        "outputId": "b2c2d70c-6313-4a8c-fc07-840db204d5c7"
      },
      "source": [
        "def score_test():\n",
        "  def do_local():\n",
        "    spam = \"local spam\"\n",
        "  \n",
        "  def do_nonlocal():\n",
        "    nonlocal spam\n",
        "    spam = \"nonlocal spam\"\n",
        "\n",
        "  def do_global():\n",
        "    global spam\n",
        "    spam = \"global spam\"\n",
        "\n",
        "  spam = \"test spam\"\n",
        "  do_local()\n",
        "  print(spam)\n",
        "  do_nonlocal()\n",
        "  print(spam)\n",
        "  do_global()\n",
        "  print(spam)\n",
        "\n",
        "score_test()\n",
        "print(spam)"
      ],
      "execution_count": 2,
      "outputs": [
        {
          "output_type": "stream",
          "text": [
            "test spam\n",
            "nonlocal spam\n",
            "nonlocal spam\n",
            "global spam\n"
          ],
          "name": "stdout"
        }
      ]
    },
    {
      "cell_type": "markdown",
      "metadata": {
        "id": "-Nlp5aePT5iZ",
        "colab_type": "text"
      },
      "source": [
        "* local assignment doesnt change binding of spam of scope test\n",
        "* nonlocal assignment does\n",
        "* global assignment changes the module level binding"
      ]
    },
    {
      "cell_type": "markdown",
      "metadata": {
        "id": "-E6YxYwGKkV7",
        "colab_type": "text"
      },
      "source": [
        "## 9.3. A First Look at Classes"
      ]
    },
    {
      "cell_type": "markdown",
      "metadata": {
        "id": "Y-8hdV8HKmeh",
        "colab_type": "text"
      },
      "source": [
        "### 9.3.1. Class Definition Syntax"
      ]
    },
    {
      "cell_type": "code",
      "metadata": {
        "id": "3ybsJhHWuJ9S",
        "colab_type": "code",
        "colab": {}
      },
      "source": [
        "class ClassName:\n",
        "    a = 1  # statement 1\n",
        "    ...\n",
        "    a = 100  # statement N"
      ],
      "execution_count": null,
      "outputs": []
    },
    {
      "cell_type": "markdown",
      "metadata": {
        "id": "kDm5zzW8uZ08",
        "colab_type": "text"
      },
      "source": [
        "* định nghĩa class giống định nghĩa function (def) phải được thực thi trước khi chúng có bất kỳ ảnh hưởng nào \n",
        "* thử đặt 1 định nghĩa lớp ở 1 nhánh của lệnh if hoặc bên trong 1 hàm "
      ]
    },
    {
      "cell_type": "code",
      "metadata": {
        "id": "m-H6Ef9wvUyW",
        "colab_type": "code",
        "colab": {
          "base_uri": "https://localhost:8080/",
          "height": 34
        },
        "outputId": "4770bc55-9108-4e66-c6c4-c00635328c62"
      },
      "source": [
        "if 1:\n",
        "  class abc:\n",
        "    a = 1\n",
        "    print(a)"
      ],
      "execution_count": null,
      "outputs": [
        {
          "output_type": "stream",
          "text": [
            "1\n"
          ],
          "name": "stdout"
        }
      ]
    },
    {
      "cell_type": "markdown",
      "metadata": {
        "id": "amEUwSWiwLjM",
        "colab_type": "text"
      },
      "source": [
        "* các câu lệnh bên trong định nghĩa class thường là định nghĩa function\n",
        "* các câu lệnh khác cũng được sử dụng\n",
        "* định nghĩa function bên trong 1 class thường có 1 hình thức đặc biệt của argument list"
      ]
    },
    {
      "cell_type": "markdown",
      "metadata": {
        "id": "dodfOG9Lwwe1",
        "colab_type": "text"
      },
      "source": [
        "* khi 1 định nghĩa class được đưa vào, 1 namespace mới được tạo và được sử dụng như 1 local scope\n",
        "* do đó tất cả các phép gán với biến local đi vào trong newspace mới\n",
        "* cụ thể, định nghĩa hàm ràng buộc tên của hàm tại đây "
      ]
    },
    {
      "cell_type": "markdown",
      "metadata": {
        "id": "CXUeX3cwxIzc",
        "colab_type": "text"
      },
      "source": [
        "* khi 1 định nghĩa class được để lại thông thường, 1 class object được tạo\n",
        "* đây là 1 cái bọc bọc quanh nội dung của namespace được tạo bởi định nghĩa class\n",
        "* local scope nguyên thể (scope có hiệu lực ngay khi định nghĩa class được đưa vào) được phục hôi \n",
        "* class object được liên kết ở đây đến class name được đưa ra ở header của định nghĩa lớp (ClassName trong vd trên)"
      ]
    },
    {
      "cell_type": "markdown",
      "metadata": {
        "id": "j0cJ7HxiKobp",
        "colab_type": "text"
      },
      "source": [
        "### 9.3.2. Class Objects"
      ]
    },
    {
      "cell_type": "markdown",
      "metadata": {
        "id": "OybaI0-w1DGD",
        "colab_type": "text"
      },
      "source": [
        "* các class object hỗ trợ 2 phép toán\n",
        "  * attribute reference\n",
        "  * instantiation"
      ]
    },
    {
      "cell_type": "markdown",
      "metadata": {
        "id": "jAlaOixO1M8c",
        "colab_type": "text"
      },
      "source": [
        "* attribute references sử dụng cú pháp tiêu chuẩn được sử dụng cho tất cả các tham chiếu thuộc tính trong python: obj.name\n",
        "* attribute names đúng là tất cả các tên đã nằm bên trong newspace của class khi class object được tạo "
      ]
    },
    {
      "cell_type": "code",
      "metadata": {
        "id": "u8OMkCVq1wjq",
        "colab_type": "code",
        "colab": {}
      },
      "source": [
        "class MyClass:\n",
        "  'a simple example class'\n",
        "  i = 12345\n",
        "  def f(self):\n",
        "    return 'hello world'"
      ],
      "execution_count": 3,
      "outputs": []
    },
    {
      "cell_type": "markdown",
      "metadata": {
        "id": "wX0ItB4h16EP",
        "colab_type": "text"
      },
      "source": [
        "* MyClass.i và MyClass.f là các tham chiếu thuộc tính đúng, trả về số integer 12345 và 1 function object\n",
        "* thuộc tính class có thể được gán nên ta có thể thay đổi giá trị của MyClass.i bằng phép gán\n",
        "* __doc__ là 1 thuộc tính đúng, trả về docstring thuộc về class 'a simple example class'"
      ]
    },
    {
      "cell_type": "code",
      "metadata": {
        "id": "3601V16V2dNi",
        "colab_type": "code",
        "colab": {
          "base_uri": "https://localhost:8080/",
          "height": 51
        },
        "outputId": "5613f464-b025-4769-ffdf-0de6e4b515d7"
      },
      "source": [
        "print(MyClass.i)\n",
        "MyClass.f"
      ],
      "execution_count": 4,
      "outputs": [
        {
          "output_type": "stream",
          "text": [
            "12345\n"
          ],
          "name": "stdout"
        },
        {
          "output_type": "execute_result",
          "data": {
            "text/plain": [
              "<function __main__.MyClass.f>"
            ]
          },
          "metadata": {
            "tags": []
          },
          "execution_count": 4
        }
      ]
    },
    {
      "cell_type": "markdown",
      "metadata": {
        "id": "EUwEUxAV3Kce",
        "colab_type": "text"
      },
      "source": [
        "* tính tức thời của class sử dụng ký hiệu hàm\n",
        "* chỉ giả sử class object là 1 hàm không có tham số trả về 1 ví dụ của class"
      ]
    },
    {
      "cell_type": "code",
      "metadata": {
        "id": "iEo05J0p3KFq",
        "colab_type": "code",
        "colab": {
          "base_uri": "https://localhost:8080/",
          "height": 34
        },
        "outputId": "d92d2caa-93a5-4821-a85d-e8b2a9b8fa48"
      },
      "source": [
        "x = MyClass()\n",
        "x"
      ],
      "execution_count": 5,
      "outputs": [
        {
          "output_type": "execute_result",
          "data": {
            "text/plain": [
              "<__main__.MyClass at 0x7f23d9f9ffd0>"
            ]
          },
          "metadata": {
            "tags": []
          },
          "execution_count": 5
        }
      ]
    },
    {
      "cell_type": "markdown",
      "metadata": {
        "id": "95vz7HXc3cVf",
        "colab_type": "text"
      },
      "source": [
        "* code trên tạo 1 ví dụ của class và gán object này cho biến local x"
      ]
    },
    {
      "cell_type": "markdown",
      "metadata": {
        "id": "Qk6WrYaW3wpV",
        "colab_type": "text"
      },
      "source": [
        "* phép toán tức thời (gọi 1 class object) tạo 1 object rỗng\n",
        "* nhiều class muốn tạo objects với các ví dụ được tùy chỉnh thành 1 trạng thái khởi tạo cụ thể\n",
        "* sau đó 1 class có thể định nghĩa 1 method đặc biệt gọi là __init__()"
      ]
    },
    {
      "cell_type": "code",
      "metadata": {
        "id": "GewGVMk_4Mfr",
        "colab_type": "code",
        "colab": {}
      },
      "source": [
        "def __init_(self):\n",
        "  self.data = []"
      ],
      "execution_count": null,
      "outputs": []
    },
    {
      "cell_type": "markdown",
      "metadata": {
        "id": "kdsX9siM4mcv",
        "colab_type": "text"
      },
      "source": [
        "* khi 1 class định nghĩa method __init__(), class instantiation (tức thời class) tự động yêu cầu __init__() cho ví dụ class mới tạo \n",
        "* trong ví dụ dưới, 1 ví dụ được khởi tạo có thể đạt được boiwr"
      ]
    },
    {
      "cell_type": "code",
      "metadata": {
        "id": "KN-r2Tgr5GG1",
        "colab_type": "code",
        "colab": {
          "base_uri": "https://localhost:8080/",
          "height": 34
        },
        "outputId": "9b467b23-5e36-458d-a835-f4a63fe55f09"
      },
      "source": [
        "x = MyClass()\n",
        "x"
      ],
      "execution_count": null,
      "outputs": [
        {
          "output_type": "execute_result",
          "data": {
            "text/plain": [
              "<__main__.MyClass at 0x7f11a7ee20b8>"
            ]
          },
          "metadata": {
            "tags": []
          },
          "execution_count": 25
        }
      ]
    },
    {
      "cell_type": "markdown",
      "metadata": {
        "id": "1beC4YgI5Ukj",
        "colab_type": "text"
      },
      "source": [
        "* __init__() method có nhiều argument để uyển chuyển hơn\n",
        "* các argument được cung cấp cho operator class instantiation được truyền vào __init__()"
      ]
    },
    {
      "cell_type": "code",
      "metadata": {
        "id": "4kqIjOSQ5stj",
        "colab_type": "code",
        "colab": {
          "base_uri": "https://localhost:8080/",
          "height": 51
        },
        "outputId": "df5466f6-5e89-4457-e4be-b752dcb02c22"
      },
      "source": [
        "class Complex:\n",
        "  def __init__(self, realpart, imagpart):\n",
        "    self.r = realpart\n",
        "    self.i = imagpart\n",
        "\n",
        "x = Complex(3.0, -1.5)\n",
        "print(x.r)\n",
        "print(x.i)"
      ],
      "execution_count": null,
      "outputs": [
        {
          "output_type": "stream",
          "text": [
            "3.0\n",
            "-1.5\n"
          ],
          "name": "stdout"
        }
      ]
    },
    {
      "cell_type": "markdown",
      "metadata": {
        "id": "49AVUaOeKrXE",
        "colab_type": "text"
      },
      "source": [
        "### 9.3.3. Instance Objects"
      ]
    },
    {
      "cell_type": "markdown",
      "metadata": {
        "id": "yyplgER7VURS",
        "colab_type": "text"
      },
      "source": [
        "* Phép toán được hiểu bởi instance object là các attribute reference\n",
        "* có 2 loại attribute name đúng\n",
        "  * data attribute\n",
        "  * method"
      ]
    },
    {
      "cell_type": "markdown",
      "metadata": {
        "id": "0Pv2FuDwV3V7",
        "colab_type": "text"
      },
      "source": [
        "* data attribute liên quan đến instance variable trong Smalltalk và data member trong C++\n",
        "* data attribute không cần được khai báo, giống local variable, chúng bắt đầu tồn tại khi lần đầu được khai báo\n",
        "* Vd nếu x là instance của MyClass, đoạn code sau sẽ trả về giá trị 16 mà không để lại dấu vết naof"
      ]
    },
    {
      "cell_type": "code",
      "metadata": {
        "id": "Z_CStnyVWRvq",
        "colab_type": "code",
        "colab": {
          "base_uri": "https://localhost:8080/",
          "height": 34
        },
        "outputId": "3c252869-33f8-4a6b-cf32-dce7618b10c5"
      },
      "source": [
        "x.counter = 1\n",
        "while x.counter < 10:\n",
        "  x.counter *= 2\n",
        "print(x.counter)"
      ],
      "execution_count": 9,
      "outputs": [
        {
          "output_type": "stream",
          "text": [
            "16\n"
          ],
          "name": "stdout"
        }
      ]
    },
    {
      "cell_type": "code",
      "metadata": {
        "id": "H_HHwEVKW5KA",
        "colab_type": "code",
        "colab": {}
      },
      "source": [
        "del x.counter"
      ],
      "execution_count": 11,
      "outputs": []
    },
    {
      "cell_type": "markdown",
      "metadata": {
        "id": "E-g9XZTRXJEf",
        "colab_type": "text"
      },
      "source": [
        "* một instance attribute reference khác là method\n",
        "* method là 1 hàm của 1 object\n",
        "* tên đúng của method của 1 instance object phụ thuộc vào class của nó\n",
        "* tất cả attribute của 1 class là các function object tương ứng với method của instance của nó\n",
        "* x.f là 1 method reference đúng vì MyClass.f là 1 hàm\n",
        "* x.i không phải là method reference\n",
        "* x.f không giống MyClass.f\n",
        "* x.f là method object"
      ]
    },
    {
      "cell_type": "markdown",
      "metadata": {
        "id": "6VG3-elHKtvY",
        "colab_type": "text"
      },
      "source": [
        "### 9.3.4. Method Objects"
      ]
    },
    {
      "cell_type": "markdown",
      "metadata": {
        "id": "CWffiFaMKwGV",
        "colab_type": "text"
      },
      "source": [
        "### 9.3.5. Class and Instance Variables"
      ]
    },
    {
      "cell_type": "markdown",
      "metadata": {
        "id": "ShkA-8jPKydj",
        "colab_type": "text"
      },
      "source": [
        "## 9.4. Random Remarks"
      ]
    },
    {
      "cell_type": "markdown",
      "metadata": {
        "id": "9XlH9qfSK08M",
        "colab_type": "text"
      },
      "source": [
        "## 9.5. Inheritance"
      ]
    },
    {
      "cell_type": "markdown",
      "metadata": {
        "id": "-EGQyImWK3q0",
        "colab_type": "text"
      },
      "source": [
        "### 9.5.1. Multiple Inheritance"
      ]
    },
    {
      "cell_type": "markdown",
      "metadata": {
        "id": "SUVt5RP9K56i",
        "colab_type": "text"
      },
      "source": [
        "# 9.6. Private Variables"
      ]
    },
    {
      "cell_type": "markdown",
      "metadata": {
        "id": "r2J7kTs0K9uw",
        "colab_type": "text"
      },
      "source": [
        "# 9.7. Odds and Ends"
      ]
    },
    {
      "cell_type": "markdown",
      "metadata": {
        "id": "zw-lXSzRK_3x",
        "colab_type": "text"
      },
      "source": [
        "# 9.8. Iterators"
      ]
    },
    {
      "cell_type": "markdown",
      "metadata": {
        "id": "jFRSKaoOLCDp",
        "colab_type": "text"
      },
      "source": [
        "# 9.9. Generators"
      ]
    },
    {
      "cell_type": "markdown",
      "metadata": {
        "id": "fIZDBsvzLEGD",
        "colab_type": "text"
      },
      "source": [
        "## 9.10. Generator Expressions"
      ]
    },
    {
      "cell_type": "code",
      "metadata": {
        "id": "pKxf-B458802",
        "colab_type": "code",
        "colab": {}
      },
      "source": [
        "  "
      ],
      "execution_count": null,
      "outputs": []
    }
  ]
}